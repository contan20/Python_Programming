{
 "cells": [
  {
   "cell_type": "markdown",
   "id": "23a21720",
   "metadata": {},
   "source": [
    "# Sentiment Analysis for Equity Portfolio Construction"
   ]
  },
  {
   "cell_type": "markdown",
   "id": "5376fa4b",
   "metadata": {},
   "source": [
    "1. Equity universe data collection\n",
    "2. Data cleaning\n",
    "3. News collection\n",
    "4. Sentiment analysis\n",
    "5. Statistics\n",
    "6. Data visualization\n",
    "7. Stock data collection\n",
    "8. Performance\n",
    "9. A very basic API"
   ]
  },
  {
   "cell_type": "code",
   "execution_count": 2,
   "id": "d2fa5997",
   "metadata": {},
   "outputs": [],
   "source": [
    "# Import libraries\n",
    "import pandas as pd\n",
    "import numpy as np\n",
    "import matplotlib.pyplot as plt\n",
    "import matplotlib.dates as mdates\n",
    "from tqdm import tqdm\n",
    "\n",
    "from datetime import datetime\n",
    "import datetime as dt\n",
    "\n",
    "import requests\n",
    "from urllib.request import urlopen, Request\n",
    "from bs4 import BeautifulSoup\n",
    "\n",
    "import nltk #nltk.download('vader_lexicon')\n",
    "from nltk.sentiment.vader import SentimentIntensityAnalyzer"
   ]
  },
  {
   "cell_type": "markdown",
   "id": "054619ea",
   "metadata": {},
   "source": [
    "<a id='1'></a>\n",
    "## 1. Equity universe data collection"
   ]
  },
  {
   "cell_type": "code",
   "execution_count": 3,
   "id": "c2d3ce63",
   "metadata": {},
   "outputs": [
    {
     "data": {
      "text/html": [
       "<div>\n",
       "<style scoped>\n",
       "    .dataframe tbody tr th:only-of-type {\n",
       "        vertical-align: middle;\n",
       "    }\n",
       "\n",
       "    .dataframe tbody tr th {\n",
       "        vertical-align: top;\n",
       "    }\n",
       "\n",
       "    .dataframe thead th {\n",
       "        text-align: right;\n",
       "    }\n",
       "</style>\n",
       "<table border=\"1\" class=\"dataframe\">\n",
       "  <thead>\n",
       "    <tr style=\"text-align: right;\">\n",
       "      <th></th>\n",
       "      <th>Company</th>\n",
       "      <th>Ticker</th>\n",
       "      <th>Sector</th>\n",
       "      <th>Date first added</th>\n",
       "    </tr>\n",
       "  </thead>\n",
       "  <tbody>\n",
       "    <tr>\n",
       "      <th>0</th>\n",
       "      <td>3M</td>\n",
       "      <td>MMM</td>\n",
       "      <td>Industrials</td>\n",
       "      <td>1976-08-09</td>\n",
       "    </tr>\n",
       "    <tr>\n",
       "      <th>1</th>\n",
       "      <td>A. O. Smith</td>\n",
       "      <td>AOS</td>\n",
       "      <td>Industrials</td>\n",
       "      <td>2017-07-26</td>\n",
       "    </tr>\n",
       "    <tr>\n",
       "      <th>2</th>\n",
       "      <td>Abbott</td>\n",
       "      <td>ABT</td>\n",
       "      <td>Health Care</td>\n",
       "      <td>1964-03-31</td>\n",
       "    </tr>\n",
       "    <tr>\n",
       "      <th>3</th>\n",
       "      <td>AbbVie</td>\n",
       "      <td>ABBV</td>\n",
       "      <td>Health Care</td>\n",
       "      <td>2012-12-31</td>\n",
       "    </tr>\n",
       "    <tr>\n",
       "      <th>4</th>\n",
       "      <td>Abiomed</td>\n",
       "      <td>ABMD</td>\n",
       "      <td>Health Care</td>\n",
       "      <td>2018-05-31</td>\n",
       "    </tr>\n",
       "    <tr>\n",
       "      <th>...</th>\n",
       "      <td>...</td>\n",
       "      <td>...</td>\n",
       "      <td>...</td>\n",
       "      <td>...</td>\n",
       "    </tr>\n",
       "    <tr>\n",
       "      <th>499</th>\n",
       "      <td>Yum! Brands</td>\n",
       "      <td>YUM</td>\n",
       "      <td>Consumer Discretionary</td>\n",
       "      <td>1997-10-06</td>\n",
       "    </tr>\n",
       "    <tr>\n",
       "      <th>500</th>\n",
       "      <td>Zebra</td>\n",
       "      <td>ZBRA</td>\n",
       "      <td>Information Technology</td>\n",
       "      <td>2019-12-23</td>\n",
       "    </tr>\n",
       "    <tr>\n",
       "      <th>501</th>\n",
       "      <td>Zimmer Biomet</td>\n",
       "      <td>ZBH</td>\n",
       "      <td>Health Care</td>\n",
       "      <td>2001-08-07</td>\n",
       "    </tr>\n",
       "    <tr>\n",
       "      <th>502</th>\n",
       "      <td>Zions Bancorp</td>\n",
       "      <td>ZION</td>\n",
       "      <td>Financials</td>\n",
       "      <td>2001-06-22</td>\n",
       "    </tr>\n",
       "    <tr>\n",
       "      <th>503</th>\n",
       "      <td>Zoetis</td>\n",
       "      <td>ZTS</td>\n",
       "      <td>Health Care</td>\n",
       "      <td>2013-06-21</td>\n",
       "    </tr>\n",
       "  </tbody>\n",
       "</table>\n",
       "<p>504 rows × 4 columns</p>\n",
       "</div>"
      ],
      "text/plain": [
       "           Company Ticker                  Sector Date first added\n",
       "0               3M    MMM             Industrials       1976-08-09\n",
       "1      A. O. Smith    AOS             Industrials       2017-07-26\n",
       "2           Abbott    ABT             Health Care       1964-03-31\n",
       "3           AbbVie   ABBV             Health Care       2012-12-31\n",
       "4          Abiomed   ABMD             Health Care       2018-05-31\n",
       "..             ...    ...                     ...              ...\n",
       "499    Yum! Brands    YUM  Consumer Discretionary       1997-10-06\n",
       "500          Zebra   ZBRA  Information Technology       2019-12-23\n",
       "501  Zimmer Biomet    ZBH             Health Care       2001-08-07\n",
       "502  Zions Bancorp   ZION              Financials       2001-06-22\n",
       "503         Zoetis    ZTS             Health Care       2013-06-21\n",
       "\n",
       "[504 rows x 4 columns]"
      ]
     },
     "execution_count": 3,
     "metadata": {},
     "output_type": "execute_result"
    }
   ],
   "source": [
    "# Define url for websraping news\n",
    "finwiz_url = 'https://finviz.com/quote.ashx?t='\n",
    "\n",
    "url = \"https://en.wikipedia.org/wiki/List_of_S%26P_500_companies\"\n",
    "page = requests.get(url)\n",
    "soup = BeautifulSoup(page.text, 'lxml')\n",
    "\n",
    "table = soup.find('table', {'class':'wikitable sortable'})\n",
    "#table\n",
    "\n",
    "rows = table.find_all('tr')\n",
    "\n",
    "# Inspect the data \n",
    "#for row in rows:\n",
    "#    print(row)\n",
    "\n",
    "# Web-scrape Wikipedia\n",
    "companies = []\n",
    "tickers = []\n",
    "sectors = []\n",
    "added_dates = [] \n",
    "\n",
    "for row in rows[1:]:\n",
    "    company = row.find_all('td')[1].text\n",
    "    ticker = row.find_all('td')[0].text   \n",
    "    sector = row.find_all('td')[3].text\n",
    "    added_date = row.find_all('td')[6].text\n",
    "    companies.append(company)\n",
    "    tickers.append(ticker)\n",
    "    sectors.append(sector)\n",
    "    added_dates.append(added_date)\n",
    "\n",
    "df = pd.DataFrame.from_dict({'Company'   : companies,\n",
    "                             'Ticker' : tickers,\n",
    "                             'Sector' : sectors,\n",
    "                             'Date first added' : added_dates\n",
    "                             })\n",
    "for col in df.columns:\n",
    "    df[col] = df[col].apply(lambda x : x.replace(\"\\n\", \"\"))\n",
    "df"
   ]
  },
  {
   "cell_type": "markdown",
   "id": "4a31825c",
   "metadata": {},
   "source": [
    "We obtained a dataframe that contains all S&P500 companies. "
   ]
  },
  {
   "cell_type": "markdown",
   "id": "b843db71",
   "metadata": {},
   "source": [
    "<a id='2'></a>\n",
    "## 2. Data cleaning"
   ]
  },
  {
   "cell_type": "markdown",
   "id": "a8106561",
   "metadata": {},
   "source": [
    "When merging data from different sources, a common issue is data discrepancy. We inspect the data we found on Wikipedia and we see that:\n",
    "- there is a problem with \"Ball Corporation\" whose ticker was BALL on Wiki, but BLL on Finviz.\n",
    "- companies with a point in their ticker (BRK.B and BF.B) are renamed as there are two class of equities on Finviz\n",
    "\n",
    "With the following code we check the existance of Finviz pages for each ticker so that we can handle those errors."
   ]
  },
  {
   "cell_type": "code",
   "execution_count": 4,
   "id": "2e8eb9e1",
   "metadata": {},
   "outputs": [
    {
     "name": "stderr",
     "output_type": "stream",
     "text": [
      " 13%|██████████▍                                                                      | 65/504 [00:24<02:36,  2.80it/s]"
     ]
    },
    {
     "name": "stdout",
     "output_type": "stream",
     "text": [
      "Oops! BRK.B is not a valid ticker.\n"
     ]
    },
    {
     "name": "stderr",
     "output_type": "stream",
     "text": [
      " 16%|█████████████                                                                    | 81/504 [00:30<02:44,  2.57it/s]"
     ]
    },
    {
     "name": "stdout",
     "output_type": "stream",
     "text": [
      "Oops! BF.B is not a valid ticker.\n"
     ]
    },
    {
     "name": "stderr",
     "output_type": "stream",
     "text": [
      "100%|████████████████████████████████████████████████████████████████████████████████| 504/504 [03:05<00:00,  2.72it/s]\n"
     ]
    },
    {
     "data": {
      "text/plain": [
       "[Int64Index([64], dtype='int64'), Int64Index([80], dtype='int64')]"
      ]
     },
     "execution_count": 4,
     "metadata": {},
     "output_type": "execute_result"
    }
   ],
   "source": [
    "error_list=[]\n",
    "from urllib.error import HTTPError\n",
    "for ticker in tqdm(df[\"Ticker\"]):\n",
    "    try:\n",
    "        myurlopen = urlopen(Request(url=('https://finviz.com/quote.ashx?t='+str(ticker)),headers={'User-Agent': 'Mozilla/5.0 (Windows NT 6.1; WOW64; rv:20.0) Gecko/20100101 Firefox/20.0'}))\n",
    "    except HTTPError:\n",
    "            print(f\"Oops! {ticker} is not a valid ticker.\")\n",
    "            error_pos=df[df[\"Ticker\"]==ticker].index\n",
    "            error_list.append(error_pos)\n",
    "error_list"
   ]
  },
  {
   "cell_type": "markdown",
   "id": "fe65a3f7",
   "metadata": {},
   "source": [
    "We research (manually) how should we fix this problem. We find that there are two classes of stocks, named -A and -B. We find that the most covered stock for BRK is BRK-A, while for BF is BF-B. So we apply those changes to our dataframe."
   ]
  },
  {
   "cell_type": "code",
   "execution_count": 5,
   "id": "6f56dc3b",
   "metadata": {},
   "outputs": [
    {
     "data": {
      "text/html": [
       "<div>\n",
       "<style scoped>\n",
       "    .dataframe tbody tr th:only-of-type {\n",
       "        vertical-align: middle;\n",
       "    }\n",
       "\n",
       "    .dataframe tbody tr th {\n",
       "        vertical-align: top;\n",
       "    }\n",
       "\n",
       "    .dataframe thead th {\n",
       "        text-align: right;\n",
       "    }\n",
       "</style>\n",
       "<table border=\"1\" class=\"dataframe\">\n",
       "  <thead>\n",
       "    <tr style=\"text-align: right;\">\n",
       "      <th></th>\n",
       "      <th>Company</th>\n",
       "      <th>Ticker</th>\n",
       "      <th>Sector</th>\n",
       "      <th>Date first added</th>\n",
       "    </tr>\n",
       "  </thead>\n",
       "  <tbody>\n",
       "    <tr>\n",
       "      <th>64</th>\n",
       "      <td>Berkshire Hathaway</td>\n",
       "      <td>BRK.B</td>\n",
       "      <td>Financials</td>\n",
       "      <td>2010-02-16</td>\n",
       "    </tr>\n",
       "    <tr>\n",
       "      <th>80</th>\n",
       "      <td>Brown–Forman</td>\n",
       "      <td>BF.B</td>\n",
       "      <td>Consumer Staples</td>\n",
       "      <td>1982-10-31</td>\n",
       "    </tr>\n",
       "  </tbody>\n",
       "</table>\n",
       "</div>"
      ],
      "text/plain": [
       "               Company Ticker            Sector Date first added\n",
       "64  Berkshire Hathaway  BRK.B        Financials       2010-02-16\n",
       "80        Brown–Forman   BF.B  Consumer Staples       1982-10-31"
      ]
     },
     "execution_count": 5,
     "metadata": {},
     "output_type": "execute_result"
    }
   ],
   "source": [
    "df[df[\"Ticker\"].str.contains(\"\\.\")]"
   ]
  },
  {
   "cell_type": "code",
   "execution_count": 6,
   "id": "11859628",
   "metadata": {},
   "outputs": [],
   "source": [
    "import warnings\n",
    "warnings.filterwarnings(\"ignore\")\n",
    "\n",
    "df[\"Ticker\"]=df[\"Ticker\"].str.replace(\"BRK.B\", \"BRK-A\")\n",
    "df[\"Ticker\"]=df[\"Ticker\"].str.replace(\"BF.B\", \"BF-B\")"
   ]
  },
  {
   "cell_type": "code",
   "execution_count": 7,
   "id": "eb266c5f",
   "metadata": {},
   "outputs": [
    {
     "data": {
      "text/plain": [
       "0"
      ]
     },
     "execution_count": 7,
     "metadata": {},
     "output_type": "execute_result"
    }
   ],
   "source": [
    "len(df[df[\"Ticker\"].str.contains(\"\\.\")])"
   ]
  },
  {
   "cell_type": "markdown",
   "id": "8f5c12d3",
   "metadata": {},
   "source": [
    "We can now drop the BALL ticker or research (manually) for a solution. We see that there is an error in the ticker and the correct one is BLL. So we change the ticker, but this operation is not automatized."
   ]
  },
  {
   "cell_type": "code",
   "execution_count": 7,
   "id": "fbc24d74",
   "metadata": {},
   "outputs": [],
   "source": [
    "df[\"Ticker\"]=df[\"Ticker\"].str.replace(\"BALL\", \"BLL\")"
   ]
  },
  {
   "cell_type": "markdown",
   "id": "cd290d38",
   "metadata": {},
   "source": [
    "Now, all tickers should be found on Finviz"
   ]
  },
  {
   "cell_type": "markdown",
   "id": "6f669fa8",
   "metadata": {},
   "source": [
    "<a id='3'></a>\n",
    "## 3. News collection\n",
    "\n",
    "We collect the news from the open source website Finviz. With this code, we collect ALL past news, and then we select a sub timeframe (yes, it can be optimized)."
   ]
  },
  {
   "cell_type": "code",
   "execution_count": 8,
   "id": "244383d0",
   "metadata": {},
   "outputs": [
    {
     "name": "stderr",
     "output_type": "stream",
     "text": [
      "100%|████████████████████████████████████████████████████████████████████████████████| 504/504 [04:58<00:00,  1.69it/s]\n",
      "100%|████████████████████████████████████████████████████████████████████████████████| 504/504 [00:05<00:00, 99.84it/s]\n"
     ]
    }
   ],
   "source": [
    "news_tables = {}\n",
    "# take all the tickers, maybe of all stock indices, or do a try/if statement to \n",
    "# select only the news where we have data\n",
    "#tickers = ['AMZN', 'TSLA', 'GOOG']\n",
    "tickers=df.iloc[:,1]\n",
    "for ticker in tqdm(tickers):\n",
    "    #print(ticker)\n",
    "    url2 = finwiz_url + ticker\n",
    "    req = Request(url=url2,headers={'User-Agent': 'Mozilla/5.0 (Windows NT 6.1; WOW64; rv:20.0) Gecko/20100101 Firefox/20.0'}) \n",
    "    response = urlopen(req)    \n",
    "    # Read the contents of the file into 'html'\n",
    "    html = BeautifulSoup(response, features=\"lxml\")\n",
    "    # Find 'news-table' in the Soup and load it into 'news_table'\n",
    "    news_table = html.find(id='news-table')\n",
    "    # Add the table to our dictionary\n",
    "    news_tables[ticker] = news_table\n",
    "    \n",
    "    \n",
    "# Read the past available news for all the companies\n",
    "# you can also select one particular company, ie AMZN\n",
    "for ticker in tickers:\n",
    "    amzn=news_tables[ticker]\n",
    "# Get all the table rows tagged in HTML with <tr> into the specific ticker\n",
    "    amzn_tr = amzn.findAll('tr')\n",
    "    for i, table_row in enumerate(amzn_tr):\n",
    "        # Read the text of the element 'a' into 'link_text'\n",
    "        a_text = table_row.a.text\n",
    "        # Read the text of the element 'td' into 'data_text'\n",
    "        td_text = table_row.td.text\n",
    "     \n",
    "parsed_news = []\n",
    "\n",
    "# Iterate through the news\n",
    "for file_name, news_table in tqdm(news_tables.items()):\n",
    "    # Iterate through all tr tags in 'news_table'\n",
    "    for x in news_table.findAll('tr'):\n",
    "        # read the text from each tr tag into text\n",
    "        # get text from a only\n",
    "        text = x.a.get_text() \n",
    "        # splite text in the td tag into a list \n",
    "        date_scrape = x.td.text.split()\n",
    "        # if the length of 'date_scrape' is 1, load 'time' as the only element\n",
    "\n",
    "        if len(date_scrape) == 1:\n",
    "            time = date_scrape[0]\n",
    "            \n",
    "        # else load 'date' as the 1st element and 'time' as the second    \n",
    "        else:\n",
    "            date = date_scrape[0]\n",
    "            time = date_scrape[1]\n",
    "        # Extract the ticker from the file name, get the string up to the 1st '_'  \n",
    "        ticker = file_name.split('_')[0]\n",
    "        \n",
    "        # Append ticker, date, time and headline as a list to the 'parsed_news' list\n",
    "        parsed_news.append([ticker, date, time, text])  "
   ]
  },
  {
   "cell_type": "markdown",
   "id": "6a90417b",
   "metadata": {},
   "source": [
    "We print some lines of the dictionary parsed_news:"
   ]
  },
  {
   "cell_type": "code",
   "execution_count": 19,
   "id": "cc8bbae5",
   "metadata": {},
   "outputs": [
    {
     "name": "stdout",
     "output_type": "stream",
     "text": [
      "['MMM', 'May-25-22', '11:15AM', \"One million trees' worth of smog-fighting capacity has been installed on roofs using Malarkey Roofing Products shingles with 3M Smog-reducing Granules.\"]\n",
      "['AOS', 'May-25-22', '11:52AM', 'These 2 Under-the-Radar Stocks Have Incredibly Bright Futures']\n",
      "['AAP', 'May-25-22', '01:56PM', \"TBJ Plus: Triangle's Fortune 500 standing; WRAL anchor says goodbye; Tom Cruise 'Top Gun' promo's NC link\"]\n",
      "['CF', 'Apr-27-22', '03:03PM', 'CF Industries (CF) Reports Next Week: Wall Street Expects Earnings Growth']\n"
     ]
    }
   ],
   "source": [
    "for i in [0,100,1000,10000]:\n",
    "    print(parsed_news[i])"
   ]
  },
  {
   "cell_type": "markdown",
   "id": "b5941fba",
   "metadata": {},
   "source": [
    "which has dimensions:"
   ]
  },
  {
   "cell_type": "code",
   "execution_count": 20,
   "id": "e098700e",
   "metadata": {},
   "outputs": [
    {
     "data": {
      "text/plain": [
       "50060"
      ]
     },
     "execution_count": 20,
     "metadata": {},
     "output_type": "execute_result"
    }
   ],
   "source": [
    "len(parsed_news)"
   ]
  },
  {
   "cell_type": "markdown",
   "id": "6dea4935",
   "metadata": {},
   "source": [
    "Note that the third column (time) stresses the fact that sentiment data are high-frequency data in the sense that they are unevenly spaced. As this is just an introductory work on the subject, I will compute moving average to smooth the data but a real trading strategy should consider more advanced econometric methods."
   ]
  },
  {
   "cell_type": "markdown",
   "id": "d17b3f2d",
   "metadata": {},
   "source": [
    "<a id='4'></a>\n",
    "## 4. Sentiment analysis"
   ]
  },
  {
   "cell_type": "code",
   "execution_count": 130,
   "id": "36cd4626",
   "metadata": {},
   "outputs": [
    {
     "name": "stdout",
     "output_type": "stream",
     "text": [
      "Computing polarity score...\n",
      "Date filtering...\n",
      "Writing a CSV file...\n"
     ]
    },
    {
     "data": {
      "text/html": [
       "<div>\n",
       "<style scoped>\n",
       "    .dataframe tbody tr th:only-of-type {\n",
       "        vertical-align: middle;\n",
       "    }\n",
       "\n",
       "    .dataframe tbody tr th {\n",
       "        vertical-align: top;\n",
       "    }\n",
       "\n",
       "    .dataframe thead th {\n",
       "        text-align: right;\n",
       "    }\n",
       "</style>\n",
       "<table border=\"1\" class=\"dataframe\">\n",
       "  <thead>\n",
       "    <tr style=\"text-align: right;\">\n",
       "      <th></th>\n",
       "      <th>ticker</th>\n",
       "      <th>date</th>\n",
       "      <th>time</th>\n",
       "      <th>headline</th>\n",
       "      <th>neg</th>\n",
       "      <th>neu</th>\n",
       "      <th>pos</th>\n",
       "      <th>compound</th>\n",
       "    </tr>\n",
       "  </thead>\n",
       "  <tbody>\n",
       "    <tr>\n",
       "      <th>5073</th>\n",
       "      <td>AIZ</td>\n",
       "      <td>2022-01-01</td>\n",
       "      <td>06:07AM</td>\n",
       "      <td>Can Mixed Financials Have A Negative Impact on...</td>\n",
       "      <td>0.222</td>\n",
       "      <td>0.778</td>\n",
       "      <td>0.000</td>\n",
       "      <td>-0.5719</td>\n",
       "    </tr>\n",
       "    <tr>\n",
       "      <th>4862</th>\n",
       "      <td>APTV</td>\n",
       "      <td>2022-01-01</td>\n",
       "      <td>06:26AM</td>\n",
       "      <td>Does This Valuation Of Aptiv PLC (NYSE:APTV) I...</td>\n",
       "      <td>0.000</td>\n",
       "      <td>1.000</td>\n",
       "      <td>0.000</td>\n",
       "      <td>0.0000</td>\n",
       "    </tr>\n",
       "    <tr>\n",
       "      <th>7840</th>\n",
       "      <td>BRO</td>\n",
       "      <td>2022-01-01</td>\n",
       "      <td>07:04AM</td>\n",
       "      <td>Brown &amp; Brown's (NYSE:BRO) five-year earnings ...</td>\n",
       "      <td>0.000</td>\n",
       "      <td>0.809</td>\n",
       "      <td>0.191</td>\n",
       "      <td>0.3818</td>\n",
       "    </tr>\n",
       "    <tr>\n",
       "      <th>12538</th>\n",
       "      <td>ED</td>\n",
       "      <td>2022-01-01</td>\n",
       "      <td>08:07AM</td>\n",
       "      <td>A number of insiders bought Consolidated Ediso...</td>\n",
       "      <td>0.000</td>\n",
       "      <td>0.735</td>\n",
       "      <td>0.265</td>\n",
       "      <td>0.6597</td>\n",
       "    </tr>\n",
       "    <tr>\n",
       "      <th>13939</th>\n",
       "      <td>DRI</td>\n",
       "      <td>2022-01-01</td>\n",
       "      <td>08:02AM</td>\n",
       "      <td>Estimating The Fair Value Of Darden Restaurant...</td>\n",
       "      <td>0.000</td>\n",
       "      <td>0.598</td>\n",
       "      <td>0.402</td>\n",
       "      <td>0.5719</td>\n",
       "    </tr>\n",
       "    <tr>\n",
       "      <th>...</th>\n",
       "      <td>...</td>\n",
       "      <td>...</td>\n",
       "      <td>...</td>\n",
       "      <td>...</td>\n",
       "      <td>...</td>\n",
       "      <td>...</td>\n",
       "      <td>...</td>\n",
       "      <td>...</td>\n",
       "    </tr>\n",
       "    <tr>\n",
       "      <th>7615</th>\n",
       "      <td>AVGO</td>\n",
       "      <td>2022-05-22</td>\n",
       "      <td>11:40PM</td>\n",
       "      <td>Chipmaker Broadcom in talks to buy VMware for ...</td>\n",
       "      <td>0.000</td>\n",
       "      <td>1.000</td>\n",
       "      <td>0.000</td>\n",
       "      <td>0.0000</td>\n",
       "    </tr>\n",
       "    <tr>\n",
       "      <th>14669</th>\n",
       "      <td>DLR</td>\n",
       "      <td>2022-05-22</td>\n",
       "      <td>09:21AM</td>\n",
       "      <td>3 Really Good Reasons to Invest in Data Center...</td>\n",
       "      <td>0.000</td>\n",
       "      <td>0.715</td>\n",
       "      <td>0.285</td>\n",
       "      <td>0.4927</td>\n",
       "    </tr>\n",
       "    <tr>\n",
       "      <th>43635</th>\n",
       "      <td>TGT</td>\n",
       "      <td>2022-05-22</td>\n",
       "      <td>12:29PM</td>\n",
       "      <td>Bear market, GDP, and Davos: What to watch thi...</td>\n",
       "      <td>0.000</td>\n",
       "      <td>1.000</td>\n",
       "      <td>0.000</td>\n",
       "      <td>0.0000</td>\n",
       "    </tr>\n",
       "    <tr>\n",
       "      <th>2479</th>\n",
       "      <td>GOOGL</td>\n",
       "      <td>2022-05-22</td>\n",
       "      <td>07:00AM</td>\n",
       "      <td>3 Stocks Down More Than 75% to Buy Right Now</td>\n",
       "      <td>0.000</td>\n",
       "      <td>1.000</td>\n",
       "      <td>0.000</td>\n",
       "      <td>0.0000</td>\n",
       "    </tr>\n",
       "    <tr>\n",
       "      <th>15075</th>\n",
       "      <td>DG</td>\n",
       "      <td>2022-05-22</td>\n",
       "      <td>05:30AM</td>\n",
       "      <td>Macys, Dollar General and Costco May Offer Clu...</td>\n",
       "      <td>0.000</td>\n",
       "      <td>0.789</td>\n",
       "      <td>0.211</td>\n",
       "      <td>0.4939</td>\n",
       "    </tr>\n",
       "  </tbody>\n",
       "</table>\n",
       "<p>40272 rows × 8 columns</p>\n",
       "</div>"
      ],
      "text/plain": [
       "      ticker        date     time  \\\n",
       "5073     AIZ  2022-01-01  06:07AM   \n",
       "4862    APTV  2022-01-01  06:26AM   \n",
       "7840     BRO  2022-01-01  07:04AM   \n",
       "12538     ED  2022-01-01  08:07AM   \n",
       "13939    DRI  2022-01-01  08:02AM   \n",
       "...      ...         ...      ...   \n",
       "7615    AVGO  2022-05-22  11:40PM   \n",
       "14669    DLR  2022-05-22  09:21AM   \n",
       "43635    TGT  2022-05-22  12:29PM   \n",
       "2479   GOOGL  2022-05-22  07:00AM   \n",
       "15075     DG  2022-05-22  05:30AM   \n",
       "\n",
       "                                                headline    neg    neu    pos  \\\n",
       "5073   Can Mixed Financials Have A Negative Impact on...  0.222  0.778  0.000   \n",
       "4862   Does This Valuation Of Aptiv PLC (NYSE:APTV) I...  0.000  1.000  0.000   \n",
       "7840   Brown & Brown's (NYSE:BRO) five-year earnings ...  0.000  0.809  0.191   \n",
       "12538  A number of insiders bought Consolidated Ediso...  0.000  0.735  0.265   \n",
       "13939  Estimating The Fair Value Of Darden Restaurant...  0.000  0.598  0.402   \n",
       "...                                                  ...    ...    ...    ...   \n",
       "7615   Chipmaker Broadcom in talks to buy VMware for ...  0.000  1.000  0.000   \n",
       "14669  3 Really Good Reasons to Invest in Data Center...  0.000  0.715  0.285   \n",
       "43635  Bear market, GDP, and Davos: What to watch thi...  0.000  1.000  0.000   \n",
       "2479        3 Stocks Down More Than 75% to Buy Right Now  0.000  1.000  0.000   \n",
       "15075  Macys, Dollar General and Costco May Offer Clu...  0.000  0.789  0.211   \n",
       "\n",
       "       compound  \n",
       "5073    -0.5719  \n",
       "4862     0.0000  \n",
       "7840     0.3818  \n",
       "12538    0.6597  \n",
       "13939    0.5719  \n",
       "...         ...  \n",
       "7615     0.0000  \n",
       "14669    0.4927  \n",
       "43635    0.0000  \n",
       "2479     0.0000  \n",
       "15075    0.4939  \n",
       "\n",
       "[40272 rows x 8 columns]"
      ]
     },
     "execution_count": 130,
     "metadata": {},
     "output_type": "execute_result"
    }
   ],
   "source": [
    "# Set the sentiment intensity analyzer\n",
    "start_date = '2022-01-01'\n",
    "end_date = '2022-05-22'\n",
    "\n",
    "vader = SentimentIntensityAnalyzer()\n",
    "\n",
    "# Set column names\n",
    "columns = ['ticker', 'date', 'time', 'headline']\n",
    "\n",
    "print('Computing polarity score...')\n",
    "# Convert the parsed_news list into a DataFrame called 'parsed_and_scored_news'\n",
    "parsed_and_scored_news = pd.DataFrame(parsed_news, columns=columns)\n",
    "\n",
    "# Iterate through the headlines and get the polarity scores using vader\n",
    "scores = parsed_and_scored_news['headline'].apply(vader.polarity_scores).tolist()\n",
    "\n",
    "# Convert the 'scores' list of dicts into a DataFrame\n",
    "scores_df = pd.DataFrame(scores)\n",
    "\n",
    "# Join the DataFrames of the news and the list of dicts\n",
    "parsed_and_scored_news = parsed_and_scored_news.join(scores_df, rsuffix='_right')\n",
    "\n",
    "# Convert the date column from string to datetime\n",
    "parsed_and_scored_news['date'] = pd.to_datetime(parsed_and_scored_news.date).dt.date\n",
    "\n",
    "#parsed_and_scored_news\n",
    "#scores_df\n",
    "\n",
    "print('Date filtering...')\n",
    "# Date filtering\n",
    "parsed_and_scored_news[\"date\"]=parsed_and_scored_news[\"date\"].astype('str') \n",
    "parsed_and_scored_news=parsed_and_scored_news.sort_values(\"date\")\n",
    "after_start_date = parsed_and_scored_news[\"date\"] >= start_date\n",
    "before_end_date = parsed_and_scored_news[\"date\"] <= end_date\n",
    "news_filtered = parsed_and_scored_news.loc[after_start_date].loc[before_end_date]\n",
    "\n",
    "print('Writing a CSV file...')\n",
    "# CSV writing\n",
    "# useful to retrieve data for the next two sections\n",
    "# files will be stored in the user directory\n",
    "parsed_and_scored_news.to_csv('out.csv', index=False)\n",
    "news_filtered.to_csv('news_filtered.csv', index=False)\n",
    "df.to_csv('df.csv', index=False)\n",
    "tickers.to_csv('tickers.csv', index=False)\n",
    "\n",
    "news_filtered"
   ]
  },
  {
   "cell_type": "markdown",
   "id": "1821e532",
   "metadata": {},
   "source": [
    "The sentiment analysis returns a dataframe that includes data from the precedent dictionary (scraped from Finviz) plus four scores: negative, neutral, positive, and a compound score. In our analysis, we will use the compound score. The lenght of the dataframe is of course smaller than the one of the previous dictionary as we filtered by date."
   ]
  },
  {
   "cell_type": "markdown",
   "id": "8180003b",
   "metadata": {},
   "source": [
    "When setting a start and end date, mind that some past news are deleted from Finviz so there will be many missing data and the backtest will be unsuccessful."
   ]
  },
  {
   "cell_type": "markdown",
   "id": "b9b525f3",
   "metadata": {},
   "source": [
    "Data visualization:"
   ]
  },
  {
   "cell_type": "code",
   "execution_count": 131,
   "id": "b87c7b27",
   "metadata": {},
   "outputs": [
    {
     "data": {
      "image/png": "[encoded data removed]",
      "text/plain": [
       "<Figure size 432x288 with 1 Axes>"
      ]
     },
     "metadata": {
      "needs_background": "light"
     },
     "output_type": "display_data"
    }
   ],
   "source": [
    "plt.hist(news_filtered.compound, bins=30)\n",
    "plt.title('Distribution of compound score')\n",
    "plt.show()"
   ]
  },
  {
   "cell_type": "markdown",
   "id": "a0a7eded",
   "metadata": {},
   "source": [
    "We find that the compound score (the one we will use) is not even fairly normal, and it has a pronounced peak at zero. This probably means that vader was unable to give a score to many news. This can be improved."
   ]
  },
  {
   "cell_type": "code",
   "execution_count": 132,
   "id": "af7dd988",
   "metadata": {},
   "outputs": [
    {
     "data": {
      "image/png": "[encoded data removed]",
      "text/plain": [
       "<Figure size 1080x360 with 3 Axes>"
      ]
     },
     "metadata": {
      "needs_background": "light"
     },
     "output_type": "display_data"
    }
   ],
   "source": [
    "fig, (ax1, ax2, ax3) = plt.subplots(1, 3, sharey=True, sharex=True, figsize=(15,5))\n",
    "\n",
    "ax1.hist(news_filtered.neg, bins=30)\n",
    "ax2.hist(news_filtered.neu, bins=30)\n",
    "ax3.hist(news_filtered.pos, bins=30)\n",
    "\n",
    "ax1.set_xlabel('Score')\n",
    "ax2.set_xlabel('Score')\n",
    "ax3.set_xlabel('Score')\n",
    "\n",
    "ax1.set_ylabel('Frequency')\n",
    "\n",
    "ax1.set_title('negative score')\n",
    "ax2.set_title('neutral score')\n",
    "ax3.set_title('positive score')\n",
    "\n",
    "fig.suptitle('Comparison between fundamental sentiment scores')\n",
    "plt.show()"
   ]
  },
  {
   "cell_type": "markdown",
   "id": "2a5e2b7d",
   "metadata": {},
   "source": [
    "We find that the high frequency of a compound scores equal to zero is caused by\n",
    "- incabability of vader to detect negative news\n",
    "- relatively high number of neutral news\n",
    "\n",
    "whereas for positive news, the frequency of null score is lower than in the case of negative news. This is a major drawback of this work as we are very much interested in detecting negative news as those will cause a sell-off in a particular stock. Also, we know that humans react more negatively for negative news than they react positively for positive news (ie Kahneman-Tversky). So this is a MAJOR drawback."
   ]
  },
  {
   "cell_type": "markdown",
   "id": "19fe7e34",
   "metadata": {},
   "source": [
    "<a id='5'></a>\n",
    "## 5. Descriptive statistics"
   ]
  },
  {
   "cell_type": "code",
   "execution_count": 133,
   "id": "61e175b6",
   "metadata": {},
   "outputs": [
    {
     "name": "stdout",
     "output_type": "stream",
     "text": [
      "Selecting best and worst sentiment companies...\n",
      "Computing basic statistics...\n",
      "Writing txt files...\n",
      "Done\n"
     ]
    }
   ],
   "source": [
    "# Define some dataframes to store the top and bottom 5 companies, for each day\n",
    "# IMPORTANT: weekends are included here as it is possible that journalists write a\n",
    "# relevant article in those days. Though, those days will be excluded after because\n",
    "# we would not be able to rebalance our portfolio in weekends as the stock market\n",
    "# is closed\n",
    "\n",
    "# Import files from the first part\n",
    "d1 = pd.read_csv('out.csv')\n",
    "news_filtered = pd.read_csv('news_filtered.csv')\n",
    "df = pd.read_csv('df.csv')\n",
    "tickers = pd.read_csv('tickers.csv')\n",
    "\n",
    "# Group by date and ticker columns from scored_news and calculate the mean\n",
    "mean_scores = news_filtered.groupby(['ticker','date']).mean()\n",
    "plot_scores = mean_scores.groupby(['ticker']).mean()\n",
    "# Unstack the column ticker\n",
    "mean_scores = mean_scores.unstack()\n",
    "# Get the cross-section of compound in the 'columns' axis\n",
    "mean_scores = mean_scores.xs('compound', axis=\"columns\").transpose()\n",
    "\n",
    "\n",
    "print('Selecting best and worst sentiment companies...')\n",
    "df_scores=pd.DataFrame(np.transpose(mean_scores))\n",
    "df_scores=df_scores.loc[:,:'before_end_date'] # new line\n",
    "df_top=pd.DataFrame(index=range(5))\n",
    "df_bottom=pd.DataFrame(index=range(5))\n",
    "top_tickers=[]\n",
    "bottom_tickers=[]\n",
    "\n",
    "for date in df_scores.columns:\n",
    "    rank_temp=df_scores.loc[:,date]\n",
    "    rank=rank_temp.reset_index(drop=True).dropna()\n",
    "    \n",
    "    top=rank.nlargest(5)\n",
    "    bottom=rank.nsmallest(5)\n",
    "    \n",
    "    top_tickers.append(df_scores.index[top.index].to_list())\n",
    "    bottom_tickers.append(df_scores.index[bottom.index].to_list())\n",
    "    \n",
    "    try:\n",
    "        for i in range(5):\n",
    "            df_top.loc[i,str(date)]=pd.DataFrame(top).iloc[i,0]\n",
    "            df_bottom.loc[i,str(date)]=pd.DataFrame(bottom).iloc[i,0]\n",
    "            \n",
    "    except IndexError:\n",
    "        for i in range(5):\n",
    "            df_top.loc[i,str(date)]=''\n",
    "            df_bottom.loc[i,str(date)]=''\n",
    "\n",
    "# We can find the absolute and relative frequency of the tickers in the top/\n",
    "# bottom dataframe, to understand to what extent the news are persistent \n",
    "# or not (temporary)\n",
    "print('Computing basic statistics...')\n",
    "count_top_tickers=pd.DataFrame(top_tickers)\n",
    "cumsum_top_tickers=count_top_tickers.apply(pd.value_counts)\n",
    "#relsum_top_tickers=cumsum_top_tickers/cumsum_top_tickers.apply(np.nansum)\n",
    "#relsum_top_tickers.sort_values(by=relsum_top_tickers.columns)\n",
    "ranked_top_tickers = cumsum_top_tickers.apply(lambda x: x.sort_values(ascending=False).values)\n",
    "ranked_top_tickers['Sum_Top'] = ranked_top_tickers.sum(axis=1)\n",
    "ranked_top_tickers = ranked_top_tickers.sort_values(by='Sum_Top', ascending=False)\n",
    "#ranked_top_tickers\n",
    "\n",
    "count_bottom_tickers=pd.DataFrame(bottom_tickers)\n",
    "cumsum_bottom_tickers=count_bottom_tickers.apply(pd.value_counts)\n",
    "#relsum_bottom_tickers=cumsum_bottom_tickers/cumsum_bottom_tickers.apply(np.nansum)\n",
    "#relsum_bottom_tickers.sort_values(by=relsum_bottom_tickers.columns)\n",
    "ranked_bottom_tickers = cumsum_bottom_tickers.apply(lambda x: x.sort_values(ascending=True).values)\n",
    "ranked_bottom_tickers['Sum_Bottom'] = ranked_bottom_tickers.sum(axis=1)\n",
    "ranked_bottom_tickers = ranked_bottom_tickers.sort_values(by='Sum_Bottom', ascending=False)\n",
    "#ranked_bottom_tickers\n",
    "\n",
    "# We now want to code a string that will return the top/bottom 3 tickers and \n",
    "# the relative company names\n",
    "# this will be used in the API\n",
    "top_company_index, top_company_name, top_company_names={},{},''\n",
    "bottom_company_index, bottom_company_name, bottom_company_names={},{},''\n",
    "punctuation=[', ',', and ','.']\n",
    "for i in range(3):\n",
    "    top_company_index[i]=df[df['Ticker']==str(ranked_top_tickers.index[i])].index.values\n",
    "    top_company_name[i]=(df['Company'][top_company_index[i][0]])\n",
    "    top_company_names += top_company_name[i]+punctuation[i]\n",
    "for i in range(3):\n",
    "    bottom_company_index[i]=df[df['Ticker']==str(ranked_bottom_tickers.index[i])].index.values\n",
    "    bottom_company_name[i]=(df['Company'][bottom_company_index[i][0]])\n",
    "    bottom_company_names += bottom_company_name[i]+punctuation[i]\n",
    "\n",
    "# We store the results in four strings of text so that we can use them in the API\n",
    "\n",
    "print('Writing txt files...')\n",
    "f= open(\"text1.txt\",\"w+\")\n",
    "text1=str(ranked_top_tickers.index[0]),' appeared ', str(int(ranked_top_tickers['Sum_Top'][0])),' times in the top 5 of the sentiment score year-to-date, followed by ',str(ranked_top_tickers.index[1]),' (',str(int(ranked_top_tickers['Sum_Top'][1])),' times), and ',str(ranked_top_tickers.index[2]),' (',str(int(ranked_top_tickers['Sum_Top'][2])),' times)'\n",
    "for n in range(len(text1)):\n",
    "    f.write(text1[n])\n",
    "f.close()\n",
    "\n",
    "f=open(\"text1.txt\", \"r\")\n",
    "if f.mode == 'r':\n",
    "    print_text1 =f.read()\n",
    "# \n",
    "f= open(\"text2.txt\",\"w+\")\n",
    "text2=' In particular, the top 3 company names are ',top_company_names\n",
    "for n in range(len(text2)):\n",
    "    f.write(text2[n])\n",
    "f.close()\n",
    "\n",
    "f=open(\"text2.txt\", \"r\")\n",
    "if f.mode == 'r':\n",
    "    print_text2 =f.read()\n",
    "# \n",
    "f= open(\"text3.txt\",\"w+\")\n",
    "text3=str(ranked_bottom_tickers.index[0]),' appeared ', str(int(ranked_bottom_tickers['Sum_Bottom'][0])),' times in the bottom 5 of the sentiment score year-to-date, followed by ',str(ranked_bottom_tickers.index[1]),' ('+str(int(ranked_bottom_tickers['Sum_Bottom'][1])),' times), and ',str(ranked_bottom_tickers.index[2]),' ('+str(int(ranked_bottom_tickers['Sum_Bottom'][2])),' times)'\n",
    "for n in range(len(text3)):\n",
    "    f.write(text3[n])\n",
    "f.close()\n",
    "\n",
    "f=open(\"text3.txt\", \"r\")\n",
    "if f.mode == 'r':\n",
    "    print_text3 =f.read()\n",
    "# \n",
    "f= open(\"text4.txt\",\"w+\")\n",
    "text4=' In particular, the bottom 3 company names are ',bottom_company_names\n",
    "for n in range(len(text4)):\n",
    "    f.write(text4[n])\n",
    "f.close()\n",
    "\n",
    "f=open(\"text4.txt\", \"r\")\n",
    "if f.mode == 'r':\n",
    "    print_text4 =f.read()\n",
    "print('Done')"
   ]
  },
  {
   "cell_type": "code",
   "execution_count": 134,
   "id": "0d8d0725",
   "metadata": {},
   "outputs": [
    {
     "name": "stdout",
     "output_type": "stream",
     "text": [
      "Top and bottom tickers successfully separed.\n"
     ]
    }
   ],
   "source": [
    "if (top_tickers==bottom_tickers)==False:\n",
    "    print('Top and bottom tickers successfully separed.')\n",
    "else:\n",
    "    print('Error in writing top and bottom tickers.')"
   ]
  },
  {
   "cell_type": "markdown",
   "id": "8269fb71",
   "metadata": {},
   "source": [
    "We know what stock to buy:"
   ]
  },
  {
   "cell_type": "code",
   "execution_count": 135,
   "id": "992f003e",
   "metadata": {},
   "outputs": [
    {
     "data": {
      "text/html": [
       "<div>\n",
       "<style scoped>\n",
       "    .dataframe tbody tr th:only-of-type {\n",
       "        vertical-align: middle;\n",
       "    }\n",
       "\n",
       "    .dataframe tbody tr th {\n",
       "        vertical-align: top;\n",
       "    }\n",
       "\n",
       "    .dataframe thead th {\n",
       "        text-align: right;\n",
       "    }\n",
       "</style>\n",
       "<table border=\"1\" class=\"dataframe\">\n",
       "  <thead>\n",
       "    <tr style=\"text-align: right;\">\n",
       "      <th></th>\n",
       "      <th>0</th>\n",
       "      <th>1</th>\n",
       "      <th>2</th>\n",
       "      <th>3</th>\n",
       "      <th>4</th>\n",
       "    </tr>\n",
       "  </thead>\n",
       "  <tbody>\n",
       "    <tr>\n",
       "      <th>0</th>\n",
       "      <td>ED</td>\n",
       "      <td>DRI</td>\n",
       "      <td>BRO</td>\n",
       "      <td>APTV</td>\n",
       "      <td>EMN</td>\n",
       "    </tr>\n",
       "    <tr>\n",
       "      <th>1</th>\n",
       "      <td>IEX</td>\n",
       "      <td>ANSS</td>\n",
       "      <td>AJG</td>\n",
       "      <td>BSX</td>\n",
       "      <td>LNC</td>\n",
       "    </tr>\n",
       "    <tr>\n",
       "      <th>2</th>\n",
       "      <td>IFF</td>\n",
       "      <td>FDS</td>\n",
       "      <td>FBHS</td>\n",
       "      <td>CCI</td>\n",
       "      <td>KMX</td>\n",
       "    </tr>\n",
       "    <tr>\n",
       "      <th>3</th>\n",
       "      <td>ALLE</td>\n",
       "      <td>EIX</td>\n",
       "      <td>EPAM</td>\n",
       "      <td>XYL</td>\n",
       "      <td>PAYX</td>\n",
       "    </tr>\n",
       "    <tr>\n",
       "      <th>4</th>\n",
       "      <td>CTSH</td>\n",
       "      <td>BSX</td>\n",
       "      <td>PEG</td>\n",
       "      <td>FRT</td>\n",
       "      <td>SYF</td>\n",
       "    </tr>\n",
       "    <tr>\n",
       "      <th>...</th>\n",
       "      <td>...</td>\n",
       "      <td>...</td>\n",
       "      <td>...</td>\n",
       "      <td>...</td>\n",
       "      <td>...</td>\n",
       "    </tr>\n",
       "    <tr>\n",
       "      <th>137</th>\n",
       "      <td>CMS</td>\n",
       "      <td>DHI</td>\n",
       "      <td>TXT</td>\n",
       "      <td>WEC</td>\n",
       "      <td>KHC</td>\n",
       "    </tr>\n",
       "    <tr>\n",
       "      <th>138</th>\n",
       "      <td>HII</td>\n",
       "      <td>PAYC</td>\n",
       "      <td>ECL</td>\n",
       "      <td>QRVO</td>\n",
       "      <td>CTAS</td>\n",
       "    </tr>\n",
       "    <tr>\n",
       "      <th>139</th>\n",
       "      <td>PEG</td>\n",
       "      <td>BWA</td>\n",
       "      <td>WBA</td>\n",
       "      <td>ARE</td>\n",
       "      <td>CCI</td>\n",
       "    </tr>\n",
       "    <tr>\n",
       "      <th>140</th>\n",
       "      <td>MSFT</td>\n",
       "      <td>MS</td>\n",
       "      <td>COST</td>\n",
       "      <td>ALLE</td>\n",
       "      <td>LOW</td>\n",
       "    </tr>\n",
       "    <tr>\n",
       "      <th>141</th>\n",
       "      <td>ROK</td>\n",
       "      <td>AMT</td>\n",
       "      <td>COST</td>\n",
       "      <td>DG</td>\n",
       "      <td>DLR</td>\n",
       "    </tr>\n",
       "  </tbody>\n",
       "</table>\n",
       "<p>142 rows × 5 columns</p>\n",
       "</div>"
      ],
      "text/plain": [
       "        0     1     2     3     4\n",
       "0      ED   DRI   BRO  APTV   EMN\n",
       "1     IEX  ANSS   AJG   BSX   LNC\n",
       "2     IFF   FDS  FBHS   CCI   KMX\n",
       "3    ALLE   EIX  EPAM   XYL  PAYX\n",
       "4    CTSH   BSX   PEG   FRT   SYF\n",
       "..    ...   ...   ...   ...   ...\n",
       "137   CMS   DHI   TXT   WEC   KHC\n",
       "138   HII  PAYC   ECL  QRVO  CTAS\n",
       "139   PEG   BWA   WBA   ARE   CCI\n",
       "140  MSFT    MS  COST  ALLE   LOW\n",
       "141   ROK   AMT  COST    DG   DLR\n",
       "\n",
       "[142 rows x 5 columns]"
      ]
     },
     "execution_count": 135,
     "metadata": {},
     "output_type": "execute_result"
    }
   ],
   "source": [
    "count_top_tickers"
   ]
  },
  {
   "cell_type": "markdown",
   "id": "891c02e3",
   "metadata": {},
   "source": [
    "and to sell, for each date:"
   ]
  },
  {
   "cell_type": "code",
   "execution_count": 137,
   "id": "64f5b0f6",
   "metadata": {},
   "outputs": [
    {
     "data": {
      "text/html": [
       "<div>\n",
       "<style scoped>\n",
       "    .dataframe tbody tr th:only-of-type {\n",
       "        vertical-align: middle;\n",
       "    }\n",
       "\n",
       "    .dataframe tbody tr th {\n",
       "        vertical-align: top;\n",
       "    }\n",
       "\n",
       "    .dataframe thead th {\n",
       "        text-align: right;\n",
       "    }\n",
       "</style>\n",
       "<table border=\"1\" class=\"dataframe\">\n",
       "  <thead>\n",
       "    <tr style=\"text-align: right;\">\n",
       "      <th></th>\n",
       "      <th>0</th>\n",
       "      <th>1</th>\n",
       "      <th>2</th>\n",
       "      <th>3</th>\n",
       "      <th>4</th>\n",
       "    </tr>\n",
       "  </thead>\n",
       "  <tbody>\n",
       "    <tr>\n",
       "      <th>0</th>\n",
       "      <td>AIZ</td>\n",
       "      <td>APTV</td>\n",
       "      <td>EMN</td>\n",
       "      <td>BRO</td>\n",
       "      <td>DRI</td>\n",
       "    </tr>\n",
       "    <tr>\n",
       "      <th>1</th>\n",
       "      <td>CTVA</td>\n",
       "      <td>CPB</td>\n",
       "      <td>XEL</td>\n",
       "      <td>CNP</td>\n",
       "      <td>LNC</td>\n",
       "    </tr>\n",
       "    <tr>\n",
       "      <th>2</th>\n",
       "      <td>WTW</td>\n",
       "      <td>PPL</td>\n",
       "      <td>ADP</td>\n",
       "      <td>AEP</td>\n",
       "      <td>APTV</td>\n",
       "    </tr>\n",
       "    <tr>\n",
       "      <th>3</th>\n",
       "      <td>AEP</td>\n",
       "      <td>AJG</td>\n",
       "      <td>ABMD</td>\n",
       "      <td>ALGN</td>\n",
       "      <td>AMP</td>\n",
       "    </tr>\n",
       "    <tr>\n",
       "      <th>4</th>\n",
       "      <td>CAG</td>\n",
       "      <td>WM</td>\n",
       "      <td>DXC</td>\n",
       "      <td>AEE</td>\n",
       "      <td>AOS</td>\n",
       "    </tr>\n",
       "    <tr>\n",
       "      <th>...</th>\n",
       "      <td>...</td>\n",
       "      <td>...</td>\n",
       "      <td>...</td>\n",
       "      <td>...</td>\n",
       "      <td>...</td>\n",
       "    </tr>\n",
       "    <tr>\n",
       "      <th>137</th>\n",
       "      <td>MKC</td>\n",
       "      <td>SYY</td>\n",
       "      <td>LH</td>\n",
       "      <td>SPGI</td>\n",
       "      <td>HAL</td>\n",
       "    </tr>\n",
       "    <tr>\n",
       "      <th>138</th>\n",
       "      <td>ANET</td>\n",
       "      <td>VMC</td>\n",
       "      <td>WM</td>\n",
       "      <td>MTCH</td>\n",
       "      <td>ALL</td>\n",
       "    </tr>\n",
       "    <tr>\n",
       "      <th>139</th>\n",
       "      <td>LH</td>\n",
       "      <td>CLX</td>\n",
       "      <td>BMY</td>\n",
       "      <td>C</td>\n",
       "      <td>SCHW</td>\n",
       "    </tr>\n",
       "    <tr>\n",
       "      <th>140</th>\n",
       "      <td>SJM</td>\n",
       "      <td>ABT</td>\n",
       "      <td>DLR</td>\n",
       "      <td>PEAK</td>\n",
       "      <td>TJX</td>\n",
       "    </tr>\n",
       "    <tr>\n",
       "      <th>141</th>\n",
       "      <td>FOX</td>\n",
       "      <td>FOXA</td>\n",
       "      <td>ACN</td>\n",
       "      <td>CFG</td>\n",
       "      <td>RCL</td>\n",
       "    </tr>\n",
       "  </tbody>\n",
       "</table>\n",
       "<p>142 rows × 5 columns</p>\n",
       "</div>"
      ],
      "text/plain": [
       "        0     1     2     3     4\n",
       "0     AIZ  APTV   EMN   BRO   DRI\n",
       "1    CTVA   CPB   XEL   CNP   LNC\n",
       "2     WTW   PPL   ADP   AEP  APTV\n",
       "3     AEP   AJG  ABMD  ALGN   AMP\n",
       "4     CAG    WM   DXC   AEE   AOS\n",
       "..    ...   ...   ...   ...   ...\n",
       "137   MKC   SYY    LH  SPGI   HAL\n",
       "138  ANET   VMC    WM  MTCH   ALL\n",
       "139    LH   CLX   BMY     C  SCHW\n",
       "140   SJM   ABT   DLR  PEAK   TJX\n",
       "141   FOX  FOXA   ACN   CFG   RCL\n",
       "\n",
       "[142 rows x 5 columns]"
      ]
     },
     "execution_count": 137,
     "metadata": {},
     "output_type": "execute_result"
    }
   ],
   "source": [
    "count_bottom_tickers"
   ]
  },
  {
   "cell_type": "markdown",
   "id": "664b7136",
   "metadata": {},
   "source": [
    "Note that sometimes a ticker is included in both lists. This means that on that day, there was only one news on finviz among companies in the index. We want to see how big is the issue:"
   ]
  },
  {
   "cell_type": "code",
   "execution_count": 138,
   "id": "6413f413",
   "metadata": {},
   "outputs": [
    {
     "name": "stdout",
     "output_type": "stream",
     "text": [
      "1 ^ column\n",
      "['PPL', 'ETSY', 'DTE', 'KEY', 'CCI', 'DGX', 'HIG', 'HII', 'ILMN', 'TDG', 'CZR', 'CSX', 'AFL', 'WYNN', 'BR', 'NLOK', 'NSC', 'WTW', 'APTV', 'TAP', 'APD', 'EMN', 'TXT', 'RJF', 'DRI', 'CL', 'DISH', 'ARE', 'AEP', 'ED', 'CNC', 'SEDG', 'ANET', 'RHI', 'HBAN', 'LKQ']\n",
      "number of common stocks in top and bottom lists:\n",
      "36\n",
      "\n",
      "2 ^ column\n",
      "['IR', 'HOLX', 'SLB', 'CCI', 'AEE', 'WRK', 'EBAY', 'MCO', 'HII', 'NLOK', 'WTW', 'APD', 'VMC', None, 'NDAQ', 'UNP', 'TXT', 'DRI', 'FDS', 'DXCM', 'TMUS', 'RF', 'BEN', 'AMT', 'CHD', 'CFG', 'DPZ', 'EIX']\n",
      "number of common stocks in top and bottom lists:\n",
      "28\n",
      "\n",
      "3 ^ column\n",
      "['HON', 'SHW', 'VRSK', 'ITW', 'AWK', 'BKNG', 'WST', 'CCI', 'ISRG', 'CPT', 'ALLE', 'DLR', 'BWA', 'HII', 'AFL', 'ES', 'SJM', 'CAT', 'NWS', None, 'KIM', 'TXT', 'AJG', 'ADBE', 'TMUS', 'DOV', 'ARE', 'ED', 'NCLH', 'URI', 'CB', 'CTXS', 'XEL', 'KMI']\n",
      "number of common stocks in top and bottom lists:\n",
      "34\n",
      "\n",
      "4 ^ column\n",
      "['PSX', 'ETSY', 'BIIB', 'CE', 'AEE', 'LIN', 'WEC', 'MRK', 'WAB', 'NWSA', 'CHRW', 'DG', 'DGX', 'BRO', 'LHX', 'MAS', 'TDG', 'LVS', 'LW', 'CZR', 'ALL', 'PWR', 'NLOK', 'JBHT', 'APTV', 'TAP', None, 'TER', 'IQV', 'NTRS', 'EXR', 'CLX', 'ZTS', 'FANG', 'AMP', 'RHI']\n",
      "number of common stocks in top and bottom lists:\n",
      "36\n",
      "\n",
      "5 ^ column\n",
      "['KMX', 'ADP', 'ETSY', 'UPS', 'IR', 'YUM', 'CCI', 'LNC', 'AEE', 'CPT', 'FAST', 'AAP', 'RCL', 'DLR', 'ZION', 'WY', 'AOS', 'MGM', 'ADSK', 'PSA', 'ATO', 'AMCR', 'MDLZ', None, 'UA', 'K', 'DXCM', 'DVA', 'GE', 'CB', 'CI', 'KMI', 'DLTR', 'COF']\n",
      "number of common stocks in top and bottom lists:\n",
      "34\n",
      "\n"
     ]
    }
   ],
   "source": [
    "for i in range(0,5):\n",
    "    print(i+1,'^ column')\n",
    "    print(list(set(count_top_tickers.iloc[:,i]) & set(count_bottom_tickers.iloc[:,i])))\n",
    "    print('number of common stocks in top and bottom lists:')\n",
    "    print(len(list(set(count_top_tickers.iloc[:,i]) & set(count_bottom_tickers.iloc[:,i]))))\n",
    "    print('')"
   ]
  },
  {
   "cell_type": "markdown",
   "id": "d7be2b7f",
   "metadata": {},
   "source": [
    "... without considering the cross intersection. Since we will use a long only strategy in the end, this is not a big issue, but in the prospective of a REAL trading algo, this must be solved. Most probably, this will be naturally solved by adopting a more precise sentiment analyser and / or by adopting a more complete news provider (mind that finviz is probably the only one which is available open source)."
   ]
  },
  {
   "cell_type": "markdown",
   "id": "b93e8fd5",
   "metadata": {},
   "source": [
    "<a id='6'></a>\n",
    "## 6. Data visualization"
   ]
  },
  {
   "cell_type": "code",
   "execution_count": 139,
   "id": "6c4c708f",
   "metadata": {},
   "outputs": [
    {
     "data": {
      "image/png": "[encoded data removed]",
      "text/plain": [
       "<Figure size 432x288 with 1 Axes>"
      ]
     },
     "metadata": {
      "needs_background": "light"
     },
     "output_type": "display_data"
    }
   ],
   "source": [
    "# set the interval of dates on x axis\n",
    "my_interval=30\n",
    "\n",
    "# set how many scores you want to visualize\n",
    "my_comps=40\n",
    "\n",
    "def days_between(d1, d2):\n",
    "    d1 = datetime.strptime(d1, \"%Y-%m-%d\")\n",
    "    d2 = datetime.strptime(d2, \"%Y-%m-%d\")\n",
    "    return abs((d2 - d1).days)\n",
    "\n",
    "# set the number of days \n",
    "N = days_between(start_date, end_date)\n",
    "\n",
    "#days = mdates.drange(datetime.strptime(start_date, \"%Y-%m-%d\"),\n",
    "#                     datetime.strptime(end_date, \"%Y-%m-%d\")+dt.timedelta(days=1),\n",
    "#                     dt.timedelta(days=1))\n",
    "\n",
    "days = mdates.date2num(df_scores.columns)\n",
    "\n",
    "plt.gca().xaxis.set_major_formatter(mdates.DateFormatter('%Y-%m-%d'))\n",
    "plt.gca().xaxis.set_major_locator(mdates.DayLocator(interval=my_interval))\n",
    "for i in range(my_comps):\n",
    "    plt.plot(days, df_scores.iloc[i,:])\n",
    "plt.gcf().autofmt_xdate()\n",
    "plt.ylabel('Compound sentiment score')\n",
    "plt.suptitle('Evolution of sentiment score across '+str(my_comps)+' companies')\n",
    "plt.show()"
   ]
  },
  {
   "cell_type": "markdown",
   "id": "45a1d2eb",
   "metadata": {},
   "source": [
    "As expected, there is a problem of missing data. In this case, the strategy cannot be run! We use moving averages to fill those vacuums but this is not doable in reality."
   ]
  },
  {
   "cell_type": "code",
   "execution_count": 141,
   "id": "9570d460",
   "metadata": {},
   "outputs": [
    {
     "data": {
      "image/png": "[encoded data removed]",
      "text/plain": [
       "<Figure size 432x288 with 1 Axes>"
      ]
     },
     "metadata": {
      "needs_background": "light"
     },
     "output_type": "display_data"
    }
   ],
   "source": [
    "#data smoothing\n",
    "moving_avg=7\n",
    "\n",
    "df_scores_w=df_scores.fillna(0).rolling(moving_avg).mean()\n",
    "\n",
    "plt.gca().xaxis.set_major_formatter(mdates.DateFormatter('%Y-%m-%d'))\n",
    "plt.gca().xaxis.set_major_locator(mdates.DayLocator(interval=my_interval))\n",
    "for i in range(my_comps):\n",
    "    plt.plot(df_scores_w.iloc[i,:])\n",
    "plt.gcf().autofmt_xdate()\n",
    "plt.xticks([])\n",
    "plt.xlabel('Date')\n",
    "plt.ylabel('Compound 7-day MA sentiment score')\n",
    "fig.suptitle('Comparison between moving averages')\n",
    "plt.show()"
   ]
  },
  {
   "cell_type": "markdown",
   "id": "bd869394",
   "metadata": {},
   "source": [
    "So the above graph is the moving average version of the graph before."
   ]
  },
  {
   "cell_type": "markdown",
   "id": "991cf275",
   "metadata": {},
   "source": [
    "<a id='7'></a>\n",
    "## 7. Stock data collection"
   ]
  },
  {
   "cell_type": "code",
   "execution_count": 142,
   "id": "d9808c74",
   "metadata": {},
   "outputs": [
    {
     "name": "stdout",
     "output_type": "stream",
     "text": [
      "Downloading preliminary stock data ...\n",
      "Preliminary stock data successfully downloaded\n",
      "\n",
      "Running loop 1/2 ...\n"
     ]
    },
    {
     "name": "stderr",
     "output_type": "stream",
     "text": [
      "100%|████████████████████████████████████████████████████████████████████████████████| 331/331 [01:43<00:00,  3.20it/s]\n"
     ]
    },
    {
     "name": "stdout",
     "output_type": "stream",
     "text": [
      "Loop 1/2 ended.\n",
      "\n",
      "Running loop 2/2 ...\n"
     ]
    },
    {
     "name": "stderr",
     "output_type": "stream",
     "text": [
      "100%|████████████████████████████████████████████████████████████████████████████████| 329/329 [07:14<00:00,  1.32s/it]"
     ]
    },
    {
     "name": "stdout",
     "output_type": "stream",
     "text": [
      "Loop 2/2 ended.\n"
     ]
    },
    {
     "name": "stderr",
     "output_type": "stream",
     "text": [
      "\n"
     ]
    }
   ],
   "source": [
    "# We use the YahooFinance API to download stock prices of the S&P500\n",
    "import yfinance as yf\n",
    "\n",
    "toptickers = ranked_top_tickers.index[0:3]\n",
    "bottomtickers = ranked_bottom_tickers.index[0:3]\n",
    "\n",
    "temp = pd.DataFrame\n",
    "stockdata = []\n",
    "print('Downloading preliminary stock data ...')\n",
    "for i in range(len(toptickers)):\n",
    "    temp = yf.download(toptickers[i],start_date,end_date, progress=False)\n",
    "    stockdata.append(temp.iloc[:,4])\n",
    "\n",
    "for i in range(len(bottomtickers)):\n",
    "    temp = yf.download(bottomtickers[i],start_date,end_date, progress=False)\n",
    "    stockdata.append(temp.iloc[:,4])\n",
    "\n",
    "returndata=[]\n",
    "for i in range(len(stockdata)):\n",
    "    returndata.append(stockdata[i].pct_change())\n",
    "    returndata[i]=returndata[i][1:]\n",
    "\n",
    "returndata=pd.DataFrame(returndata).T\n",
    "cum_return=(returndata.iloc[:,0:3].sum(axis=1)-returndata.iloc[:,3:6].sum(axis=1)+1).cumprod()\n",
    "\n",
    "# compare with S&P500\n",
    "spdata=[]\n",
    "tickers.reset_index(drop=True,inplace=True)\n",
    "sptemp = yf.download('^GSPC',start_date,end_date, progress=False)\n",
    "spreturns=sptemp.iloc[:,4].pct_change() # the fifth column returns the adjusted close\n",
    "spreturns=spreturns[1:]\n",
    "cum_sp_returns=(spreturns+1).cumprod()\n",
    "print('Preliminary stock data successfully downloaded')\n",
    "\n",
    "# To avoid downloading two times the same data, we use a list where we delete \n",
    "# the double counted tickers\n",
    "flat_top_list=[]\n",
    "flat_top_list = [item for sublist in top_tickers for item in sublist]\n",
    "flat_top_list=list(dict.fromkeys(flat_top_list))\n",
    "df_toptickers=pd.DataFrame(top_tickers)\n",
    "\n",
    "flat_bottom_list=[]\n",
    "flat_bottom_list = [item for sublist in bottom_tickers for item in sublist]\n",
    "flat_bottom_list=list(dict.fromkeys(flat_bottom_list))\n",
    "df_bottomtickers=pd.DataFrame(bottom_tickers)\n",
    "\n",
    "\n",
    "top_stockdata=[]\n",
    "print('')\n",
    "print('Running loop 1/2 ...')\n",
    "for i in tqdm(range(len(flat_top_list))):\n",
    "    temp = yf.download(flat_top_list[i],start_date,end_date, progress=False)\n",
    "    top_stockdata.append(temp.iloc[:,4])\n",
    "print('Loop 1/2 ended.')\n",
    "print('')\n",
    "print('Running loop 2/2 ...')\n",
    "bottom_stockdata=[]\n",
    "for i in tqdm(range(len(flat_bottom_list))):\n",
    "    temp = yf.download(flat_bottom_list[i],start_date,end_date, progress=False)\n",
    "    bottom_stockdata.append(temp.iloc[:,4])\n",
    "print('Loop 2/2 ended.')"
   ]
  },
  {
   "cell_type": "markdown",
   "id": "12e28cdd",
   "metadata": {},
   "source": [
    "<a id='8'></a>\n",
    "## 8. Performance"
   ]
  },
  {
   "cell_type": "code",
   "execution_count": 143,
   "id": "c68c17bd",
   "metadata": {},
   "outputs": [],
   "source": [
    "# download stock data for the stocks in top and bottom\n",
    "top_returndata=[]\n",
    "for i in range(len(top_stockdata)):\n",
    "    top_returndata.append(top_stockdata[i].pct_change())\n",
    "    top_returndata[i]=top_returndata[i][1:]\n",
    "top_returndata=pd.DataFrame(top_returndata).T\n",
    "top_returndata.columns=flat_top_list\n",
    "top_returndata=top_returndata.fillna(0)\n",
    "\n",
    "bottom_returndata=[]\n",
    "for i in range(len(bottom_stockdata)):\n",
    "    bottom_returndata.append(bottom_stockdata[i].pct_change())\n",
    "    bottom_returndata[i]=bottom_returndata[i][1:]\n",
    "bottom_returndata=pd.DataFrame(bottom_returndata).T\n",
    "bottom_returndata.columns=flat_bottom_list\n",
    "bottom_returndata=bottom_returndata.fillna(0)\n",
    "\n",
    "# We now match the tickers in the top/bottom 5 with the returns\n",
    "# and store the data in a new dataframe: top_dated_returndata\n",
    "df_toptickers.index = df_scores_w.columns\n",
    "df_toptickers.index = pd.to_datetime(df_toptickers.index)\n",
    "top_dated_returndata=pd.DataFrame(index=top_returndata.index, columns=df_toptickers.columns)\n",
    "returns_top=[]\n",
    "for j in range(len(top_returndata.index)):\n",
    "    for i in range(len(df_toptickers.columns)):\n",
    "        #avoid weekends\n",
    "        try:\n",
    "            temp_ticker=df_toptickers.loc[top_returndata.index[j],:]\n",
    "            temp_return=top_returndata.loc[top_returndata.index[j],temp_ticker[i]] \n",
    "            top_dated_returndata.iloc[j,i]=temp_return\n",
    "        except KeyError:\n",
    "            top_dated_returndata.iloc[j,i]=0\n",
    "\n",
    "df_bottomtickers.index=df_scores_w.columns\n",
    "df_bottomtickers.index = pd.to_datetime(df_bottomtickers.index)\n",
    "bottom_dated_returndata=pd.DataFrame(index=bottom_returndata.index, columns=df_bottomtickers.columns)\n",
    "returns_bottom=[]\n",
    "for j in range(len(bottom_returndata.index)):\n",
    "    for i in range(len(df_bottomtickers.columns)):\n",
    "        #avoid weekends\n",
    "        try:\n",
    "            temp_ticker=df_bottomtickers.loc[bottom_returndata.index[j],:]\n",
    "            temp_return=bottom_returndata.loc[bottom_returndata.index[j],temp_ticker[i]] \n",
    "            bottom_dated_returndata.iloc[j,i]=temp_return\n",
    "        except KeyError:\n",
    "            bottom_dated_returndata.iloc[j,i]=0\n",
    "\n",
    "# We assign an equal weight of 0.2 to all assets in portfolio\n",
    "# ie the objective is not to optimize the portfolio but to examine\n",
    "# the naive return profile of a portfolio built upon a sentiment trading signal\n",
    "w=1/len(top_dated_returndata.columns)\n",
    "top_dated_returndata=w*top_dated_returndata\n",
    "bottom_dated_returndata=w*bottom_dated_returndata\n",
    "\n",
    "top_cum_return=(top_dated_returndata.sum(axis=1)+1).cumprod()\n",
    "bottom_cum_return=(bottom_dated_returndata.sum(axis=1)+1).cumprod()"
   ]
  },
  {
   "cell_type": "code",
   "execution_count": 148,
   "id": "f1faee26",
   "metadata": {
    "scrolled": false
   },
   "outputs": [
    {
     "name": "stdout",
     "output_type": "stream",
     "text": [
      "A appeared 15 times in the top 5 of the sentiment score year-to-date, followed by AAL (14 times), and AAP (13 times)\n",
      " In particular, the top 3 company names are Agilent Technologies, American Airlines Group, and Advance Auto Parts.\n",
      "EMR appeared 12 times in the bottom 5 of the sentiment score year-to-date, followed by EMN (11 times), and EQIX (11 times)\n",
      " In particular, the bottom 3 company names are Emerson, Eastman, and Equinix.\n"
     ]
    },
    {
     "data": {
      "image/png": "[encoded data removed]",
      "text/plain": [
       "<Figure size 432x288 with 1 Axes>"
      ]
     },
     "metadata": {
      "needs_background": "light"
     },
     "output_type": "display_data"
    },
    {
     "data": {
      "image/png": "[encoded data removed]",
      "text/plain": [
       "<Figure size 432x288 with 1 Axes>"
      ]
     },
     "metadata": {
      "needs_background": "light"
     },
     "output_type": "display_data"
    }
   ],
   "source": [
    "fig1 = plt.figure()\n",
    "ax = fig1.add_axes([0,0,1,1])\n",
    "ax.set_title('Daily rebalanced top and bottom returns')\n",
    "line = ax.plot(top_cum_return, label='Top 5')\n",
    "line2 = ax.plot(bottom_cum_return, label='Bottom 5')\n",
    "ax.tick_params(axis='x', rotation=30)\n",
    "ax.legend()\n",
    "\n",
    "fig2 = plt.figure()\n",
    "ax = fig2.add_axes([0,0,1,1])\n",
    "ax.set_title('Comparison with S&P500 returns')\n",
    "line = ax.plot(top_cum_return, label='Top 5')\n",
    "line2 = ax.plot(cum_sp_returns, label='S&P 500 returns')\n",
    "ax.tick_params(axis='x', rotation=30)\n",
    "ax.legend()\n",
    "\n",
    "print(print_text1)\n",
    "print(print_text2)\n",
    "print(print_text3)\n",
    "print(print_text4)"
   ]
  },
  {
   "cell_type": "markdown",
   "id": "dfd2dde2",
   "metadata": {},
   "source": [
    "From the analysis of the above graphs we note that:\n",
    "- companies in the top 5 of the sentiment score performed (almost always) better than companies in the bottom 5\n",
    "- the top 5 portfolio offers attractive returns when compared with S&P500 returns\n",
    "- equal weighting is clearly not the best solution since there are large drawdowns in the top 5 portfolio"
   ]
  },
  {
   "cell_type": "markdown",
   "id": "f3cd702c",
   "metadata": {},
   "source": [
    "We now want to separate periods of over- and underperformance:"
   ]
  },
  {
   "cell_type": "code",
   "execution_count": 203,
   "id": "a1d85e10",
   "metadata": {},
   "outputs": [
    {
     "data": {
      "image/png": "[encoded data removed]",
      "text/plain": [
       "<Figure size 432x288 with 1 Axes>"
      ]
     },
     "metadata": {
      "needs_background": "light"
     },
     "output_type": "display_data"
    }
   ],
   "source": [
    "plt.fill_between(np.arange(len(cum_sp_returns)),top_cum_return, cum_sp_returns,\n",
    "                where=(top_cum_return > cum_sp_returns), color='green',\n",
    "                interpolate=True)\n",
    "plt.fill_between(np.arange(len(cum_sp_returns)),top_cum_return, cum_sp_returns,\n",
    "                where=(top_cum_return < cum_sp_returns), color='red',\n",
    "                interpolate=True)\n",
    "plt.title('Over- and underperformance')\n",
    "plt.xlabel('days')\n",
    "plt.ylabel('returns')\n",
    "plt.show()"
   ]
  },
  {
   "cell_type": "markdown",
   "id": "b59e0a31",
   "metadata": {},
   "source": [
    "or:"
   ]
  },
  {
   "cell_type": "code",
   "execution_count": 215,
   "id": "b1aebb95",
   "metadata": {},
   "outputs": [
    {
     "data": {
      "image/png": "[encoded data removed]",
      "text/plain": [
       "<Figure size 432x288 with 1 Axes>"
      ]
     },
     "metadata": {
      "needs_background": "light"
     },
     "output_type": "display_data"
    }
   ],
   "source": [
    "colors = ['green' if (x > 0) else 'red' for x in (top_cum_return-cum_sp_returns)]\n",
    "plt.bar(np.arange(len(cum_sp_returns)), top_cum_return-cum_sp_returns, width=0.3, color=colors)\n",
    "plt.title('Over- and underperformance')\n",
    "plt.xlabel('days')\n",
    "plt.ylabel('over/under perf')\n",
    "plt.show()"
   ]
  },
  {
   "cell_type": "code",
   "execution_count": 214,
   "id": "e0b1a89f",
   "metadata": {},
   "outputs": [
    {
     "data": {
      "image/png": "[encoded data removed]",
      "text/plain": [
       "<Figure size 432x288 with 1 Axes>"
      ]
     },
     "metadata": {
      "needs_background": "light"
     },
     "output_type": "display_data"
    }
   ],
   "source": [
    "plt.hist(top_cum_return-cum_sp_returns, bins=30)\n",
    "plt.title('Returns frequency distribution')\n",
    "plt.show()"
   ]
  },
  {
   "cell_type": "markdown",
   "id": "95bebe27",
   "metadata": {},
   "source": [
    "There are many ways in which this work can be improved:\n",
    "- **increase accuracy of sentiment analyser**: this will decrease the peak that we have seen for the composite score equal to zero\n",
    "- **longer news**: we only analysed the titles of the news, but an optimized code may read ans analyse the full article\n",
    "- **build portfolios based on statistical measures**: top and bottom 5 is a simplistic and arbitrary rule. We could decide how many stock to go long or short based on quantile measures or on historical trends\n",
    "- **portfolio weights**: equal weights is a simplistic measure that is suboptimal to other weighting schemes like inverse volatility\n",
    "- **backtest**: a rigorous backtest is not possible since most of the past news are not stored on finviz so we end up with many NaN for values in the past\n",
    "- **long/short**: I did not do a L/S strategy because including brokerage fees was too complex. But maybe a L/S one may perform better than a L only"
   ]
  },
  {
   "cell_type": "markdown",
   "id": "0654e39a",
   "metadata": {},
   "source": [
    "Though it seems to me that the strategy performs well when there are large sell-offs in the market! In any case this claim should be validated by some solid econometrics."
   ]
  },
  {
   "cell_type": "markdown",
   "id": "ee5580e2",
   "metadata": {},
   "source": [
    "<a id='9'></a>\n",
    "## 9. A *very* basic API"
   ]
  },
  {
   "cell_type": "code",
   "execution_count": 101,
   "id": "6297ab1e",
   "metadata": {},
   "outputs": [
    {
     "name": "stdout",
     "output_type": "stream",
     "text": [
      " * Serving Flask app \"My App\" (lazy loading)\n",
      " * Environment: production\n",
      "\u001b[31m   WARNING: This is a development server. Do not use it in a production deployment.\u001b[0m\n",
      "\u001b[2m   Use a production WSGI server instead.\u001b[0m\n",
      " * Debug mode: off\n"
     ]
    },
    {
     "name": "stderr",
     "output_type": "stream",
     "text": [
      " * Running on http://127.0.0.1:5000/ (Press CTRL+C to quit)\n",
      "127.0.0.1 - - [19/May/2022 17:09:21] \"GET / HTTP/1.1\" 404 -\n",
      "127.0.0.1 - - [19/May/2022 17:09:21] \"GET /favicon.ico HTTP/1.1\" 404 -\n",
      "127.0.0.1 - - [19/May/2022 17:09:29] \"GET /get?Ticker=WEC HTTP/1.1\" 200 -\n",
      "127.0.0.1 - - [19/May/2022 17:09:40] \"GET /timeframe?from=2021-11-01&to=2021-11-01 HTTP/1.1\" 200 -\n",
      "127.0.0.1 - - [19/May/2022 17:09:53] \"GET /getresults?results HTTP/1.1\" 200 -\n"
     ]
    }
   ],
   "source": [
    "from flask import Flask\n",
    "from flask_restful import Resource, Api, reqparse\n",
    "#from flask import send_file\n",
    "\n",
    "import pandas as pd\n",
    "import datetime\n",
    "\n",
    "# Initialize flask library\n",
    "app = Flask(\"My App\")\n",
    "api = Api(app)    \n",
    "\n",
    "# Load csv files from the previous parts\n",
    "d1 = pd.read_csv('out.csv')\n",
    "\n",
    "# Convert some columns to omogeneous variables to avoit formatting errors\n",
    "d1['ticker'] = d1['ticker'].apply(lambda x : str(x))\n",
    "d1['compound'] = d1['compound'].apply(lambda x : float(x))\n",
    "d1[\"date\"]=d1[\"date\"].apply(lambda x : datetime.datetime.strptime(str(x), '%Y-%m-%d').timestamp())\n",
    "\n",
    "# Define the first request for the API\n",
    "class GetTicker(Resource):\n",
    "\n",
    "    def get(self):\n",
    "        parser = reqparse.RequestParser()\n",
    "        parser.add_argument('Ticker', required = False) # If the ticker is mandatory for the request, change to True\n",
    "        #parser.add_argument('compound', required=False)\n",
    "        args = parser.parse_args()\n",
    "        \n",
    "        # Args is a dictionary\n",
    "        data = pd.DataFrame()\n",
    "        if args['Ticker'] is not None:\n",
    "            data = d1[d1['ticker'] == args['Ticker']]\n",
    "            \n",
    "        companies = [data.iloc[i].to_dict() for i in range(len(data))]\n",
    "        return companies, 200\n",
    "\n",
    "# Define the seocnd request for the API\n",
    "class GetDate(Resource):\n",
    "    \n",
    "    def get(self):\n",
    "        parser = reqparse.RequestParser()\n",
    "        parser.add_argument('from', required = False) # If the ticker is mandatory for the request, change to True\n",
    "        parser.add_argument('to', required=False)\n",
    "        args = parser.parse_args()\n",
    "        \n",
    "        # Args is a dictionary\n",
    "        data = pd.DataFrame()\n",
    "        if args['from'] is not None:\n",
    "            data = d1[d1['date'] >= float(datetime.datetime.strptime(str(args['from']), '%Y-%m-%d').timestamp())]\n",
    "        \n",
    "        if args['to'] is not None:\n",
    "            data = d1[d1['date'] <= float(datetime.datetime.strptime(str(args['to']), '%Y-%m-%d').timestamp())]\n",
    "        \n",
    "        data2 = [data.iloc[i].to_dict() for i in range(len(data))]\n",
    "        return  data2 , 200 \n",
    "    \n",
    "# Define the third request for the API\n",
    "class GetResults(Resource):\n",
    "    def get(self):\n",
    "        parser = reqparse.RequestParser()\n",
    "        parser.add_argument('results', required = False) # If the ticker is mandatory for the request, change to True\n",
    "        args = parser.parse_args()\n",
    "        # Open text files from the third part of the project\n",
    "        # Run the third file before running this\n",
    "        f=open(\"text1.txt\", \"r\")\n",
    "        if f.mode == 'r':\n",
    "            print_text1 =f.read()\n",
    "\n",
    "        f=open(\"text2.txt\", \"r\")\n",
    "        if f.mode == 'r':\n",
    "            print_text2 =f.read()\n",
    "\n",
    "        f=open(\"text3.txt\", \"r\")\n",
    "        if f.mode == 'r':\n",
    "            print_text3 =f.read()\n",
    "\n",
    "        f=open(\"text4.txt\", \"r\")\n",
    "        if f.mode == 'r':\n",
    "            print_text4 =f.read()\n",
    "\n",
    "        # Args is a dictionary\n",
    "        data = pd.DataFrame()\n",
    "        if args['results'] is not None:\n",
    "            data = [print_text1, print_text2, print_text3, print_text4]\n",
    "            \n",
    "        data3 = data\n",
    "        \n",
    "        return  data3, 200 \n",
    "              \n",
    "# Set the parameters to execute the code above in the API\n",
    "api.add_resource(GetDate, '/timeframe')\n",
    "api.add_resource(GetTicker, '/get')\n",
    "api.add_resource(GetResults, '/getresults')\n",
    "\n",
    "if __name__=='__main__':\n",
    "    app.run()  \n",
    "    \n",
    "# EXAMPLES\n",
    "# Try using the code below to run the API in your browser\n",
    "# http://127.0.0.1:5000/get?Ticker=WEC\n",
    "# http://127.0.0.1:5000/timeframe?from=2021-11-01&to=2021-11-01\n",
    "# http://127.0.0.1:5000/getresults?results"
   ]
  },
  {
   "cell_type": "code",
   "execution_count": null,
   "id": "c9647a27",
   "metadata": {},
   "outputs": [],
   "source": []
  }
 ],
 "metadata": {
  "kernelspec": {
   "display_name": "Python 3 (ipykernel)",
   "language": "python",
   "name": "python3"
  },
  "language_info": {
   "codemirror_mode": {
    "name": "ipython",
    "version": 3
   },
   "file_extension": ".py",
   "mimetype": "text/x-python",
   "name": "python",
   "nbconvert_exporter": "python",
   "pygments_lexer": "ipython3",
   "version": "3.9.7"
  }
 },
 "nbformat": 4,
 "nbformat_minor": 5
}
